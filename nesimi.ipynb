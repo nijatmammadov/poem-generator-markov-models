{
 "cells": [
  {
   "cell_type": "code",
   "execution_count": 1,
   "id": "ed418785",
   "metadata": {},
   "outputs": [],
   "source": [
    "import pandas as pd\n",
    "import nltk\n",
    "import numpy as np"
   ]
  },
  {
   "cell_type": "code",
   "execution_count": 2,
   "id": "cdd6c2b2",
   "metadata": {},
   "outputs": [
    {
     "data": {
      "text/html": [
       "<div>\n",
       "<style scoped>\n",
       "    .dataframe tbody tr th:only-of-type {\n",
       "        vertical-align: middle;\n",
       "    }\n",
       "\n",
       "    .dataframe tbody tr th {\n",
       "        vertical-align: top;\n",
       "    }\n",
       "\n",
       "    .dataframe thead th {\n",
       "        text-align: right;\n",
       "    }\n",
       "</style>\n",
       "<table border=\"1\" class=\"dataframe\">\n",
       "  <thead>\n",
       "    <tr style=\"text-align: right;\">\n",
       "      <th></th>\n",
       "      <th>Text</th>\n",
       "    </tr>\n",
       "  </thead>\n",
       "  <tbody>\n",
       "    <tr>\n",
       "      <th>0</th>\n",
       "      <td>Canə sən candan nə kim gəlsə, cigərlər ağrımaz,</td>\n",
       "    </tr>\n",
       "    <tr>\n",
       "      <th>1</th>\n",
       "      <td>Həqq bilir, bir zərrə neştərdən damarlar ağrımaz.</td>\n",
       "    </tr>\n",
       "    <tr>\n",
       "      <th>2</th>\n",
       "      <td>Şəha, mehrindənmidir, ya aşinalıqdanmıdır,</td>\n",
       "    </tr>\n",
       "    <tr>\n",
       "      <th>3</th>\n",
       "      <td>Cismimi sər ta qədəm min gəz yararlar, ağrımaz.</td>\n",
       "    </tr>\n",
       "    <tr>\n",
       "      <th>4</th>\n",
       "      <td>Fitvasından zahidin nahəq məni gər soyalar,</td>\n",
       "    </tr>\n",
       "  </tbody>\n",
       "</table>\n",
       "</div>"
      ],
      "text/plain": [
       "                                                Text\n",
       "0    Canə sən candan nə kim gəlsə, cigərlər ağrımaz,\n",
       "1  Həqq bilir, bir zərrə neştərdən damarlar ağrımaz.\n",
       "2         Şəha, mehrindənmidir, ya aşinalıqdanmıdır,\n",
       "3    Cismimi sər ta qədəm min gəz yararlar, ağrımaz.\n",
       "4        Fitvasından zahidin nahəq məni gər soyalar,"
      ]
     },
     "execution_count": 2,
     "metadata": {},
     "output_type": "execute_result"
    }
   ],
   "source": [
    "df = pd.read_csv('nesimi.csv',index_col=0)\n",
    "df.columns=['Text']\n",
    "df.head()"
   ]
  },
  {
   "cell_type": "code",
   "execution_count": 3,
   "id": "bf02960a",
   "metadata": {},
   "outputs": [],
   "source": [
    "df['Text'] = df['Text'].apply(lambda x: ' '.join(nltk.RegexpTokenizer(r\"\\w+\").tokenize(x.lower())))"
   ]
  },
  {
   "cell_type": "code",
   "execution_count": 4,
   "id": "2a53262f",
   "metadata": {},
   "outputs": [],
   "source": [
    "initial = {}\n",
    "first_order = {}\n",
    "second_order = {}"
   ]
  },
  {
   "cell_type": "code",
   "execution_count": 5,
   "id": "69836b76",
   "metadata": {},
   "outputs": [],
   "source": [
    "def add2dict(dict_,key,value):\n",
    "    if key not in dict_.keys():\n",
    "        dict_[key] = []\n",
    "    dict_[key].append(value)"
   ]
  },
  {
   "cell_type": "code",
   "execution_count": 6,
   "id": "a5cb7e44",
   "metadata": {},
   "outputs": [],
   "source": [
    "for line in df['Text']:\n",
    "    tokens = line.split()\n",
    "    T = len(tokens)\n",
    "    \n",
    "    for i in range(T):\n",
    "        t = tokens[i]\n",
    "        if i == 0:\n",
    "            initial[t] = initial.get(t,0.)+1\n",
    "            \n",
    "        else:\n",
    "            t_1 = tokens[i-1]\n",
    "            if i == T - 1:\n",
    "                add2dict(second_order, (t_1, t), 'END')\n",
    "                \n",
    "            if i == 1:\n",
    "                add2dict(first_order,t_1,t)\n",
    "            else:\n",
    "                t_2 = tokens[i-2]\n",
    "                add2dict(second_order,(t_2,t_1),t)"
   ]
  },
  {
   "cell_type": "code",
   "execution_count": 7,
   "id": "6f8fe758",
   "metadata": {},
   "outputs": [],
   "source": [
    "initial_total = sum(initial.values())\n",
    "for key,val in initial.items():\n",
    "    initial[key] = val/initial_total"
   ]
  },
  {
   "cell_type": "code",
   "execution_count": 8,
   "id": "a028a82e",
   "metadata": {},
   "outputs": [],
   "source": [
    "def list_to_dict(tokens):\n",
    "    d = {}\n",
    "    n = len(tokens)\n",
    "    \n",
    "    for token in tokens:\n",
    "        d[token] = d.get(token,0)+1\n",
    "    for key, value in d.items():\n",
    "        d[key] = value/n\n",
    "        \n",
    "    return d"
   ]
  },
  {
   "cell_type": "code",
   "execution_count": 9,
   "id": "89a6e2a6",
   "metadata": {},
   "outputs": [],
   "source": [
    "for t_1,ts in first_order.items():\n",
    "    first_order[t_1] = list_to_dict(ts)"
   ]
  },
  {
   "cell_type": "code",
   "execution_count": 10,
   "id": "1692812a",
   "metadata": {},
   "outputs": [],
   "source": [
    "for t_1_2,ts in second_order.items():\n",
    "    second_order[t_1_2] = list_to_dict(ts)"
   ]
  },
  {
   "cell_type": "code",
   "execution_count": 11,
   "id": "3def16b5",
   "metadata": {},
   "outputs": [],
   "source": [
    "def sample_word(d):\n",
    "    p0 = np.random.random()\n",
    "    \n",
    "    cumulative = 0\n",
    "    \n",
    "    for token, prob in d.items():\n",
    "        cumulative+=prob\n",
    "        \n",
    "        if p0<cumulative:\n",
    "            return token\n",
    "    assert(False)\n",
    "    "
   ]
  },
  {
   "cell_type": "code",
   "execution_count": 12,
   "id": "e6c4edec",
   "metadata": {},
   "outputs": [],
   "source": [
    "def generate():\n",
    "    for i in range(4):\n",
    "        sentence = []\n",
    "        \n",
    "        #initial word\n",
    "        w0 = sample_word(initial)\n",
    "        sentence.append(w0)\n",
    "        \n",
    "        #second word\n",
    "        w1 = sample_word(first_order[w0])\n",
    "        sentence.append(w1)\n",
    "        \n",
    "        \n",
    "        #third word\n",
    "        while True:\n",
    "            w2 = sample_word(second_order[w0,w1])\n",
    "            \n",
    "            if w2 == 'END':\n",
    "                break\n",
    "            sentence.append(w2)\n",
    "            w0=w1\n",
    "            w1=w2\n",
    "        print(' '.join(sentence))\n",
    "            \n",
    "        "
   ]
  },
  {
   "cell_type": "code",
   "execution_count": 14,
   "id": "8d26d1cf",
   "metadata": {},
   "outputs": [
    {
     "name": "stdout",
     "output_type": "stream",
     "text": [
      "məndə sığar iki cahan mən bu hüruf şəkliçün cim ilə dal içindəyəm\n",
      "vəslin şərabından məni saldı хumarın rəncinə\n",
      "şövqün qışından ağlayıcı küz tökər yaşın\n",
      "hüsni rüхün qatında çün adil imiş şühudumuz\n"
     ]
    }
   ],
   "source": [
    "generate()"
   ]
  },
  {
   "cell_type": "code",
   "execution_count": null,
   "id": "c7037463",
   "metadata": {},
   "outputs": [],
   "source": []
  }
 ],
 "metadata": {
  "kernelspec": {
   "display_name": "Python 3 (ipykernel)",
   "language": "python",
   "name": "python3"
  },
  "language_info": {
   "codemirror_mode": {
    "name": "ipython",
    "version": 3
   },
   "file_extension": ".py",
   "mimetype": "text/x-python",
   "name": "python",
   "nbconvert_exporter": "python",
   "pygments_lexer": "ipython3",
   "version": "3.9.12"
  }
 },
 "nbformat": 4,
 "nbformat_minor": 5
}
